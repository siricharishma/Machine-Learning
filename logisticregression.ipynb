{
  "nbformat": 4,
  "nbformat_minor": 0,
  "metadata": {
    "colab": {
      "provenance": []
    },
    "kernelspec": {
      "name": "python3",
      "display_name": "Python 3"
    },
    "language_info": {
      "name": "python"
    }
  },
  "cells": [
    {
      "cell_type": "code",
      "execution_count": 6,
      "metadata": {
        "id": "ZcstlEwjbEke"
      },
      "outputs": [],
      "source": [
        "%matplotlib inline\n",
        "import matplotlib.pyplot as plt\n",
        "from sklearn.datasets import load_digits"
      ]
    },
    {
      "cell_type": "code",
      "source": [
        "digits = load_digits()"
      ],
      "metadata": {
        "id": "wiAvKKwjdkdQ"
      },
      "execution_count": 2,
      "outputs": []
    },
    {
      "cell_type": "code",
      "source": [
        "dir(digits)"
      ],
      "metadata": {
        "colab": {
          "base_uri": "https://localhost:8080/"
        },
        "id": "Yqegn60EdpC9",
        "outputId": "2b0f1fde-5055-4b95-f3fe-ed5c83bbbda6"
      },
      "execution_count": 3,
      "outputs": [
        {
          "output_type": "execute_result",
          "data": {
            "text/plain": [
              "['DESCR', 'data', 'feature_names', 'frame', 'images', 'target', 'target_names']"
            ]
          },
          "metadata": {},
          "execution_count": 3
        }
      ]
    },
    {
      "cell_type": "code",
      "source": [
        "digits.data[0]"
      ],
      "metadata": {
        "colab": {
          "base_uri": "https://localhost:8080/"
        },
        "id": "rscu7nvZdz0G",
        "outputId": "63a76007-a885-47a5-9350-73616ec97a66"
      },
      "execution_count": 4,
      "outputs": [
        {
          "output_type": "execute_result",
          "data": {
            "text/plain": [
              "array([ 0.,  0.,  5., 13.,  9.,  1.,  0.,  0.,  0.,  0., 13., 15., 10.,\n",
              "       15.,  5.,  0.,  0.,  3., 15.,  2.,  0., 11.,  8.,  0.,  0.,  4.,\n",
              "       12.,  0.,  0.,  8.,  8.,  0.,  0.,  5.,  8.,  0.,  0.,  9.,  8.,\n",
              "        0.,  0.,  4., 11.,  0.,  1., 12.,  7.,  0.,  0.,  2., 14.,  5.,\n",
              "       10., 12.,  0.,  0.,  0.,  0.,  6., 13., 10.,  0.,  0.,  0.])"
            ]
          },
          "metadata": {},
          "execution_count": 4
        }
      ]
    },
    {
      "cell_type": "code",
      "source": [
        "plt.gray()\n",
        "plt.matshow(digits.images[0])"
      ],
      "metadata": {
        "colab": {
          "base_uri": "https://localhost:8080/",
          "height": 310
        },
        "id": "AcA7Eu69d4q6",
        "outputId": "a11c40ee-3d6f-471b-8c5f-28b3da9ebdd7"
      },
      "execution_count": 7,
      "outputs": [
        {
          "output_type": "execute_result",
          "data": {
            "text/plain": [
              "<matplotlib.image.AxesImage at 0x7f288c42bb80>"
            ]
          },
          "metadata": {},
          "execution_count": 7
        },
        {
          "output_type": "display_data",
          "data": {
            "text/plain": [
              "<Figure size 432x288 with 0 Axes>"
            ]
          },
          "metadata": {}
        },
        {
          "output_type": "display_data",
          "data": {
            "text/plain": [
              "<Figure size 288x288 with 1 Axes>"
            ],
            "image/png": "[encoded data removed]"
          },
          "metadata": {
            "needs_background": "light"
          }
        }
      ]
    },
    {
      "cell_type": "code",
      "source": [
        "plt.gray()\n",
        "for i in range(5):\n",
        "  plt.matshow(digits.images[i])"
      ],
      "metadata": {
        "colab": {
          "base_uri": "https://localhost:8080/",
          "height": 1000
        },
        "id": "ZABsqLDgeccr",
        "outputId": "9499038e-8667-477b-a56b-0fa8f1e82dd7"
      },
      "execution_count": 9,
      "outputs": [
        {
          "output_type": "display_data",
          "data": {
            "text/plain": [
              "<Figure size 432x288 with 0 Axes>"
            ]
          },
          "metadata": {}
        },
        {
          "output_type": "display_data",
          "data": {
            "text/plain": [
              "<Figure size 288x288 with 1 Axes>"
            ],
            "image/png": "[encoded data removed]"
          },
          "metadata": {
            "needs_background": "light"
          }
        },
        {
          "output_type": "display_data",
          "data": {
            "text/plain": [
              "<Figure size 288x288 with 1 Axes>"
            ],
            "image/png": "[encoded data removed]"
          },
          "metadata": {
            "needs_background": "light"
          }
        },
        {
          "output_type": "display_data",
          "data": {
            "text/plain": [
              "<Figure size 288x288 with 1 Axes>"
            ],
            "image/png": "[encoded data removed]"
          },
          "metadata": {
            "needs_background": "light"
          }
        },
        {
          "output_type": "display_data",
          "data": {
            "text/plain": [
              "<Figure size 288x288 with 1 Axes>"
            ],
            "image/png": "[encoded data removed]"
          },
          "metadata": {
            "needs_background": "light"
          }
        },
        {
          "output_type": "display_data",
          "data": {
            "text/plain": [
              "<Figure size 288x288 with 1 Axes>"
            ],
            "image/png": "[encoded data removed]"
          },
          "metadata": {
            "needs_background": "light"
          }
        }
      ]
    },
    {
      "cell_type": "code",
      "source": [
        "digits.target[0:5]"
      ],
      "metadata": {
        "colab": {
          "base_uri": "https://localhost:8080/"
        },
        "id": "nO-z6vYBetMI",
        "outputId": "06dad8c9-3350-4fb1-ed4a-a3cfa6cea138"
      },
      "execution_count": 10,
      "outputs": [
        {
          "output_type": "execute_result",
          "data": {
            "text/plain": [
              "array([0, 1, 2, 3, 4])"
            ]
          },
          "metadata": {},
          "execution_count": 10
        }
      ]
    },
    {
      "cell_type": "code",
      "source": [
        "from sklearn.model_selection import train_test_split"
      ],
      "metadata": {
        "id": "JKAmmSHzfD1N"
      },
      "execution_count": 11,
      "outputs": []
    },
    {
      "cell_type": "code",
      "source": [
        "train_test_split(digits.data, digits.target)"
      ],
      "metadata": {
        "colab": {
          "base_uri": "https://localhost:8080/"
        },
        "id": "2l5BSWzefPX-",
        "outputId": "d7c92b53-bc54-4fb3-fa4c-aa3cc3a21f2a"
      },
      "execution_count": 12,
      "outputs": [
        {
          "output_type": "execute_result",
          "data": {
            "text/plain": [
              "[array([[ 0.,  0., 10., ..., 16.,  2.,  0.],\n",
              "        [ 0.,  0.,  2., ...,  3.,  0.,  0.],\n",
              "        [ 0.,  0., 11., ...,  0.,  0.,  0.],\n",
              "        ...,\n",
              "        [ 0.,  1.,  9., ...,  8.,  0.,  0.],\n",
              "        [ 0.,  0.,  3., ...,  0.,  0.,  0.],\n",
              "        [ 0.,  0.,  7., ...,  0.,  0.,  0.]]),\n",
              " array([[ 0.,  0.,  2., ...,  0.,  0.,  0.],\n",
              "        [ 0.,  0.,  3., ..., 16.,  9.,  0.],\n",
              "        [ 0.,  0.,  2., ...,  0.,  0.,  0.],\n",
              "        ...,\n",
              "        [ 0.,  0.,  2., ..., 10.,  1.,  0.],\n",
              "        [ 0.,  0.,  8., ...,  4.,  0.,  0.],\n",
              "        [ 0.,  0.,  0., ..., 15., 16.,  0.]]),\n",
              " array([2, 0, 5, ..., 9, 7, 5]),\n",
              " array([1, 8, 7, 6, 3, 8, 8, 1, 1, 2, 7, 5, 0, 0, 3, 9, 4, 8, 9, 5, 3, 8,\n",
              "        6, 4, 9, 7, 7, 8, 8, 5, 4, 5, 8, 6, 6, 2, 0, 4, 6, 6, 9, 2, 8, 8,\n",
              "        0, 5, 2, 4, 3, 7, 1, 0, 3, 3, 3, 5, 7, 5, 0, 7, 2, 1, 2, 1, 6, 2,\n",
              "        5, 1, 7, 7, 7, 2, 0, 9, 6, 5, 8, 1, 3, 3, 4, 7, 7, 3, 3, 2, 2, 5,\n",
              "        6, 1, 1, 8, 1, 6, 1, 6, 2, 5, 5, 4, 6, 5, 5, 5, 6, 6, 9, 1, 7, 2,\n",
              "        7, 1, 3, 4, 2, 3, 7, 4, 0, 7, 6, 5, 9, 7, 3, 8, 6, 0, 6, 5, 6, 3,\n",
              "        9, 9, 7, 3, 7, 8, 4, 7, 2, 7, 4, 3, 0, 6, 7, 6, 7, 7, 8, 0, 7, 5,\n",
              "        8, 5, 1, 8, 8, 4, 8, 7, 0, 8, 2, 5, 1, 7, 6, 0, 9, 8, 6, 3, 7, 5,\n",
              "        6, 2, 2, 3, 1, 1, 3, 1, 2, 0, 5, 0, 0, 6, 7, 0, 0, 9, 5, 4, 1, 1,\n",
              "        4, 2, 5, 7, 5, 9, 4, 0, 8, 9, 9, 7, 3, 5, 6, 4, 9, 6, 0, 5, 3, 8,\n",
              "        2, 5, 2, 3, 5, 4, 6, 0, 6, 7, 4, 7, 1, 3, 7, 2, 7, 3, 0, 2, 9, 2,\n",
              "        4, 1, 6, 2, 4, 4, 3, 1, 7, 2, 6, 9, 3, 9, 9, 9, 5, 0, 3, 1, 0, 1,\n",
              "        4, 3, 7, 5, 3, 0, 9, 8, 9, 2, 6, 4, 4, 7, 4, 8, 9, 0, 0, 8, 2, 3,\n",
              "        4, 3, 8, 5, 4, 3, 4, 1, 3, 5, 8, 1, 9, 4, 2, 8, 8, 5, 7, 6, 2, 1,\n",
              "        3, 8, 3, 9, 3, 6, 4, 4, 1, 5, 7, 0, 8, 2, 4, 1, 4, 0, 0, 4, 2, 7,\n",
              "        9, 5, 5, 9, 0, 3, 0, 5, 6, 1, 0, 7, 1, 7, 6, 6, 5, 1, 6, 8, 9, 4,\n",
              "        0, 4, 5, 8, 7, 9, 9, 0, 7, 6, 4, 5, 3, 4, 0, 3, 7, 1, 8, 9, 7, 7,\n",
              "        9, 3, 8, 3, 5, 3, 8, 5, 1, 5, 4, 5, 3, 2, 2, 0, 6, 2, 1, 8, 9, 5,\n",
              "        5, 4, 9, 6, 8, 2, 7, 4, 3, 6, 9, 0, 3, 0, 7, 9, 6, 6, 9, 4, 6, 7,\n",
              "        6, 3, 7, 7, 1, 4, 8, 4, 2, 7, 6, 0, 0, 9, 9, 4, 0, 0, 2, 2, 1, 6,\n",
              "        4, 9, 3, 2, 0, 6, 6, 6, 0, 8])]"
            ]
          },
          "metadata": {},
          "execution_count": 12
        }
      ]
    },
    {
      "cell_type": "code",
      "source": [
        "X_train, X_test, Y_train, Y_test =  train_test_split(digits.data, digits.target, test_size=0.3)"
      ],
      "metadata": {
        "id": "757wgh_cfbNJ"
      },
      "execution_count": 19,
      "outputs": []
    },
    {
      "cell_type": "code",
      "source": [
        "from sklearn.linear_model import LogisticRegression\n",
        "model = LogisticRegression(solver='lbfgs', max_iter=13000)"
      ],
      "metadata": {
        "id": "UmghA5Mmfv4C"
      },
      "execution_count": 33,
      "outputs": []
    },
    {
      "cell_type": "code",
      "source": [
        "model.fit(X_train,Y_train)"
      ],
      "metadata": {
        "colab": {
          "base_uri": "https://localhost:8080/"
        },
        "id": "zLowqLikgWGM",
        "outputId": "5e60c325-6dae-4f6b-c86c-cf48ef62338e"
      },
      "execution_count": 34,
      "outputs": [
        {
          "output_type": "execute_result",
          "data": {
            "text/plain": [
              "LogisticRegression(max_iter=13000)"
            ]
          },
          "metadata": {},
          "execution_count": 34
        }
      ]
    },
    {
      "cell_type": "code",
      "source": [
        "model.score(X_test, Y_test)"
      ],
      "metadata": {
        "colab": {
          "base_uri": "https://localhost:8080/"
        },
        "id": "rraT0UYsgyVz",
        "outputId": "e06321a0-ddf7-4705-a902-102559d8b3ba"
      },
      "execution_count": 35,
      "outputs": [
        {
          "output_type": "execute_result",
          "data": {
            "text/plain": [
              "0.9685185185185186"
            ]
          },
          "metadata": {},
          "execution_count": 35
        }
      ]
    },
    {
      "cell_type": "code",
      "source": [
        "model.predict(digits.data[0:5])"
      ],
      "metadata": {
        "colab": {
          "base_uri": "https://localhost:8080/"
        },
        "id": "ymmCrUClg6gK",
        "outputId": "99d9c72a-4c38-42c7-d8cf-dfb4cfcaa007"
      },
      "execution_count": 36,
      "outputs": [
        {
          "output_type": "execute_result",
          "data": {
            "text/plain": [
              "array([0, 1, 2, 3, 4])"
            ]
          },
          "metadata": {},
          "execution_count": 36
        }
      ]
    },
    {
      "cell_type": "code",
      "source": [
        "Y_predicted = model.predict(X_test)"
      ],
      "metadata": {
        "id": "Z2U9NM4-hIxY"
      },
      "execution_count": 37,
      "outputs": []
    },
    {
      "cell_type": "code",
      "source": [
        "from sklearn.metrics import confusion_matrix\n",
        "cm = confusion_matrix(Y_test, Y_predicted)\n",
        "cm"
      ],
      "metadata": {
        "colab": {
          "base_uri": "https://localhost:8080/"
        },
        "id": "-XCsDfzqhB-m",
        "outputId": "475dacfa-52e9-4fa4-96a3-3d9254616177"
      },
      "execution_count": 38,
      "outputs": [
        {
          "output_type": "execute_result",
          "data": {
            "text/plain": [
              "array([[50,  0,  0,  0,  0,  0,  0,  0,  0,  0],\n",
              "       [ 0, 57,  0,  0,  0,  0,  0,  0,  0,  2],\n",
              "       [ 0,  0, 50,  0,  0,  0,  0,  0,  0,  0],\n",
              "       [ 0,  0,  0, 55,  0,  0,  0,  0,  0,  1],\n",
              "       [ 0,  0,  0,  0, 44,  0,  0,  0,  0,  0],\n",
              "       [ 0,  1,  0,  0,  0, 55,  0,  0,  0,  0],\n",
              "       [ 0,  0,  0,  0,  0,  1, 58,  0,  0,  0],\n",
              "       [ 0,  0,  0,  1,  0,  1,  0, 56,  0,  1],\n",
              "       [ 0,  5,  1,  0,  0,  0,  0,  0, 46,  1],\n",
              "       [ 0,  0,  0,  0,  0,  0,  0,  0,  2, 52]])"
            ]
          },
          "metadata": {},
          "execution_count": 38
        }
      ]
    },
    {
      "cell_type": "code",
      "source": [
        "import seaborn as sn\n",
        "plt.figure(figsize = (10,7))\n",
        "sn.heatmap(cm, annot=True)\n",
        "plt.xlabel('Predicted')\n",
        "plt.ylabel('Truth')"
      ],
      "metadata": {
        "colab": {
          "base_uri": "https://localhost:8080/",
          "height": 459
        },
        "id": "2WU-gyTLh-X5",
        "outputId": "f10ca91a-0c2c-45bb-f859-5dd04e426006"
      },
      "execution_count": 39,
      "outputs": [
        {
          "output_type": "execute_result",
          "data": {
            "text/plain": [
              "Text(69.0, 0.5, 'Truth')"
            ]
          },
          "metadata": {},
          "execution_count": 39
        },
        {
          "output_type": "display_data",
          "data": {
            "text/plain": [
              "<Figure size 720x504 with 2 Axes>"
            ],
            "image/png": "[encoded data removed]"
          },
          "metadata": {
            "needs_background": "light"
          }
        }
      ]
    }
  ]
}