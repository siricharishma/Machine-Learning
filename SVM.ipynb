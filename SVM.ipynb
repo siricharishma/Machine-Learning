{
  "cells": [
    {
      "cell_type": "markdown",
      "id": "58f49c37",
      "metadata": {
        "id": "58f49c37"
      },
      "source": [
        "Importing the Libraries"
      ]
    },
    {
      "cell_type": "code",
      "execution_count": null,
      "id": "4c293454",
      "metadata": {
        "id": "4c293454"
      },
      "outputs": [],
      "source": [
        "import numpy as np\n",
        "import pandas as pd\n",
        "import matplotlib.pyplot as plt"
      ]
    },
    {
      "cell_type": "markdown",
      "id": "a366c476",
      "metadata": {
        "id": "a366c476"
      },
      "source": [
        "Importing the Dataset"
      ]
    },
    {
      "cell_type": "code",
      "source": [
        "from google.colab import drive\n",
        "drive.mount('/content/drive')"
      ],
      "metadata": {
        "colab": {
          "base_uri": "https://localhost:8080/"
        },
        "id": "Isp8rrmTx5m-",
        "outputId": "75ef7d94-ce48-481e-8b2b-b1bc29f6f1a7"
      },
      "id": "Isp8rrmTx5m-",
      "execution_count": null,
      "outputs": [
        {
          "output_type": "stream",
          "name": "stdout",
          "text": [
            "Mounted at /content/drive\n"
          ]
        }
      ]
    },
    {
      "cell_type": "code",
      "execution_count": null,
      "id": "6c845fc5",
      "metadata": {
        "colab": {
          "base_uri": "https://localhost:8080/",
          "height": 458
        },
        "id": "6c845fc5",
        "outputId": "673507a2-983f-4200-8fc0-cb821a7f5ad8"
      },
      "outputs": [
        {
          "output_type": "execute_result",
          "data": {
            "text/plain": [
              "     gender race/ethnicity parental level of education         lunch  \\\n",
              "0    female        group D                some college      standard   \n",
              "1      male        group D          associate's degree      standard   \n",
              "2    female        group D                some college  free/reduced   \n",
              "3      male        group B                some college  free/reduced   \n",
              "4    female        group D          associate's degree      standard   \n",
              "..      ...            ...                         ...           ...   \n",
              "995    male        group C                some college      standard   \n",
              "996    male        group C                some college      standard   \n",
              "997  female        group A                 high school      standard   \n",
              "998    male        group E                 high school      standard   \n",
              "999    male        group D                 high school      standard   \n",
              "\n",
              "    test preparation course  math score  reading score  writing score  \n",
              "0                 completed          59             70             78  \n",
              "1                      none          96             93             87  \n",
              "2                      none          57             76             77  \n",
              "3                      none          70             70             63  \n",
              "4                      none          83             85             86  \n",
              "..                      ...         ...            ...            ...  \n",
              "995                    none          77             77             71  \n",
              "996                    none          80             66             66  \n",
              "997               completed          67             86             86  \n",
              "998                    none          80             72             62  \n",
              "999                    none          58             47             45  \n",
              "\n",
              "[1000 rows x 8 columns]"
            ],
            "text/html": [
              "\n",
              "  <div id=\"df-3c6422a9-0e92-4b2d-9bad-cf95452bb6eb\" class=\"colab-df-container\">\n",
              "    <div>\n",
              "<style scoped>\n",
              "    .dataframe tbody tr th:only-of-type {\n",
              "        vertical-align: middle;\n",
              "    }\n",
              "\n",
              "    .dataframe tbody tr th {\n",
              "        vertical-align: top;\n",
              "    }\n",
              "\n",
              "    .dataframe thead th {\n",
              "        text-align: right;\n",
              "    }\n",
              "</style>\n",
              "<table border=\"1\" class=\"dataframe\">\n",
              "  <thead>\n",
              "    <tr style=\"text-align: right;\">\n",
              "      <th></th>\n",
              "      <th>gender</th>\n",
              "      <th>race/ethnicity</th>\n",
              "      <th>parental level of education</th>\n",
              "      <th>lunch</th>\n",
              "      <th>test preparation course</th>\n",
              "      <th>math score</th>\n",
              "      <th>reading score</th>\n",
              "      <th>writing score</th>\n",
              "    </tr>\n",
              "  </thead>\n",
              "  <tbody>\n",
              "    <tr>\n",
              "      <th>0</th>\n",
              "      <td>female</td>\n",
              "      <td>group D</td>\n",
              "      <td>some college</td>\n",
              "      <td>standard</td>\n",
              "      <td>completed</td>\n",
              "      <td>59</td>\n",
              "      <td>70</td>\n",
              "      <td>78</td>\n",
              "    </tr>\n",
              "    <tr>\n",
              "      <th>1</th>\n",
              "      <td>male</td>\n",
              "      <td>group D</td>\n",
              "      <td>associate's degree</td>\n",
              "      <td>standard</td>\n",
              "      <td>none</td>\n",
              "      <td>96</td>\n",
              "      <td>93</td>\n",
              "      <td>87</td>\n",
              "    </tr>\n",
              "    <tr>\n",
              "      <th>2</th>\n",
              "      <td>female</td>\n",
              "      <td>group D</td>\n",
              "      <td>some college</td>\n",
              "      <td>free/reduced</td>\n",
              "      <td>none</td>\n",
              "      <td>57</td>\n",
              "      <td>76</td>\n",
              "      <td>77</td>\n",
              "    </tr>\n",
              "    <tr>\n",
              "      <th>3</th>\n",
              "      <td>male</td>\n",
              "      <td>group B</td>\n",
              "      <td>some college</td>\n",
              "      <td>free/reduced</td>\n",
              "      <td>none</td>\n",
              "      <td>70</td>\n",
              "      <td>70</td>\n",
              "      <td>63</td>\n",
              "    </tr>\n",
              "    <tr>\n",
              "      <th>4</th>\n",
              "      <td>female</td>\n",
              "      <td>group D</td>\n",
              "      <td>associate's degree</td>\n",
              "      <td>standard</td>\n",
              "      <td>none</td>\n",
              "      <td>83</td>\n",
              "      <td>85</td>\n",
              "      <td>86</td>\n",
              "    </tr>\n",
              "    <tr>\n",
              "      <th>...</th>\n",
              "      <td>...</td>\n",
              "      <td>...</td>\n",
              "      <td>...</td>\n",
              "      <td>...</td>\n",
              "      <td>...</td>\n",
              "      <td>...</td>\n",
              "      <td>...</td>\n",
              "      <td>...</td>\n",
              "    </tr>\n",
              "    <tr>\n",
              "      <th>995</th>\n",
              "      <td>male</td>\n",
              "      <td>group C</td>\n",
              "      <td>some college</td>\n",
              "      <td>standard</td>\n",
              "      <td>none</td>\n",
              "      <td>77</td>\n",
              "      <td>77</td>\n",
              "      <td>71</td>\n",
              "    </tr>\n",
              "    <tr>\n",
              "      <th>996</th>\n",
              "      <td>male</td>\n",
              "      <td>group C</td>\n",
              "      <td>some college</td>\n",
              "      <td>standard</td>\n",
              "      <td>none</td>\n",
              "      <td>80</td>\n",
              "      <td>66</td>\n",
              "      <td>66</td>\n",
              "    </tr>\n",
              "    <tr>\n",
              "      <th>997</th>\n",
              "      <td>female</td>\n",
              "      <td>group A</td>\n",
              "      <td>high school</td>\n",
              "      <td>standard</td>\n",
              "      <td>completed</td>\n",
              "      <td>67</td>\n",
              "      <td>86</td>\n",
              "      <td>86</td>\n",
              "    </tr>\n",
              "    <tr>\n",
              "      <th>998</th>\n",
              "      <td>male</td>\n",
              "      <td>group E</td>\n",
              "      <td>high school</td>\n",
              "      <td>standard</td>\n",
              "      <td>none</td>\n",
              "      <td>80</td>\n",
              "      <td>72</td>\n",
              "      <td>62</td>\n",
              "    </tr>\n",
              "    <tr>\n",
              "      <th>999</th>\n",
              "      <td>male</td>\n",
              "      <td>group D</td>\n",
              "      <td>high school</td>\n",
              "      <td>standard</td>\n",
              "      <td>none</td>\n",
              "      <td>58</td>\n",
              "      <td>47</td>\n",
              "      <td>45</td>\n",
              "    </tr>\n",
              "  </tbody>\n",
              "</table>\n",
              "<p>1000 rows × 8 columns</p>\n",
              "</div>\n",
              "    <div class=\"colab-df-buttons\">\n",
              "\n",
              "  <div class=\"colab-df-container\">\n",
              "    <button class=\"colab-df-convert\" onclick=\"convertToInteractive('df-3c6422a9-0e92-4b2d-9bad-cf95452bb6eb')\"\n",
              "            title=\"Convert this dataframe to an interactive table.\"\n",
              "            style=\"display:none;\">\n",
              "\n",
              "  <svg xmlns=\"http://www.w3.org/2000/svg\" height=\"24px\" viewBox=\"0 -960 960 960\">\n",
              "    <path d=\"M120-120v-720h720v720H120Zm60-500h600v-160H180v160Zm220 220h160v-160H400v160Zm0 220h160v-160H400v160ZM180-400h160v-160H180v160Zm440 0h160v-160H620v160ZM180-180h160v-160H180v160Zm440 0h160v-160H620v160Z\"/>\n",
              "  </svg>\n",
              "    </button>\n",
              "\n",
              "  <style>\n",
              "    .colab-df-container {\n",
              "      display:flex;\n",
              "      gap: 12px;\n",
              "    }\n",
              "\n",
              "    .colab-df-convert {\n",
              "      background-color: #E8F0FE;\n",
              "      border: none;\n",
              "      border-radius: 50%;\n",
              "      cursor: pointer;\n",
              "      display: none;\n",
              "      fill: #1967D2;\n",
              "      height: 32px;\n",
              "      padding: 0 0 0 0;\n",
              "      width: 32px;\n",
              "    }\n",
              "\n",
              "    .colab-df-convert:hover {\n",
              "      background-color: #E2EBFA;\n",
              "      box-shadow: 0px 1px 2px rgba(60, 64, 67, 0.3), 0px 1px 3px 1px rgba(60, 64, 67, 0.15);\n",
              "      fill: #174EA6;\n",
              "    }\n",
              "\n",
              "    .colab-df-buttons div {\n",
              "      margin-bottom: 4px;\n",
              "    }\n",
              "\n",
              "    [theme=dark] .colab-df-convert {\n",
              "      background-color: #3B4455;\n",
              "      fill: #D2E3FC;\n",
              "    }\n",
              "\n",
              "    [theme=dark] .colab-df-convert:hover {\n",
              "      background-color: #434B5C;\n",
              "      box-shadow: 0px 1px 3px 1px rgba(0, 0, 0, 0.15);\n",
              "      filter: drop-shadow(0px 1px 2px rgba(0, 0, 0, 0.3));\n",
              "      fill: #FFFFFF;\n",
              "    }\n",
              "  </style>\n",
              "\n",
              "    <script>\n",
              "      const buttonEl =\n",
              "        document.querySelector('#df-3c6422a9-0e92-4b2d-9bad-cf95452bb6eb button.colab-df-convert');\n",
              "      buttonEl.style.display =\n",
              "        google.colab.kernel.accessAllowed ? 'block' : 'none';\n",
              "\n",
              "      async function convertToInteractive(key) {\n",
              "        const element = document.querySelector('#df-3c6422a9-0e92-4b2d-9bad-cf95452bb6eb');\n",
              "        const dataTable =\n",
              "          await google.colab.kernel.invokeFunction('convertToInteractive',\n",
              "                                                    [key], {});\n",
              "        if (!dataTable) return;\n",
              "\n",
              "        const docLinkHtml = 'Like what you see? Visit the ' +\n",
              "          '<a target=\"_blank\" href=https://colab.research.google.com/notebooks/data_table.ipynb>data table notebook</a>'\n",
              "          + ' to learn more about interactive tables.';\n",
              "        element.innerHTML = '';\n",
              "        dataTable['output_type'] = 'display_data';\n",
              "        await google.colab.output.renderOutput(dataTable, element);\n",
              "        const docLink = document.createElement('div');\n",
              "        docLink.innerHTML = docLinkHtml;\n",
              "        element.appendChild(docLink);\n",
              "      }\n",
              "    </script>\n",
              "  </div>\n",
              "\n",
              "\n",
              "<div id=\"df-9e64dc79-9ae4-4296-9b65-30da1acafe81\">\n",
              "  <button class=\"colab-df-quickchart\" onclick=\"quickchart('df-9e64dc79-9ae4-4296-9b65-30da1acafe81')\"\n",
              "            title=\"Suggest charts.\"\n",
              "            style=\"display:none;\">\n",
              "\n",
              "<svg xmlns=\"http://www.w3.org/2000/svg\" height=\"24px\"viewBox=\"0 0 24 24\"\n",
              "     width=\"24px\">\n",
              "    <g>\n",
              "        <path d=\"M19 3H5c-1.1 0-2 .9-2 2v14c0 1.1.9 2 2 2h14c1.1 0 2-.9 2-2V5c0-1.1-.9-2-2-2zM9 17H7v-7h2v7zm4 0h-2V7h2v10zm4 0h-2v-4h2v4z\"/>\n",
              "    </g>\n",
              "</svg>\n",
              "  </button>\n",
              "\n",
              "<style>\n",
              "  .colab-df-quickchart {\n",
              "    background-color: #E8F0FE;\n",
              "    border: none;\n",
              "    border-radius: 50%;\n",
              "    cursor: pointer;\n",
              "    display: none;\n",
              "    fill: #1967D2;\n",
              "    height: 32px;\n",
              "    padding: 0 0 0 0;\n",
              "    width: 32px;\n",
              "  }\n",
              "\n",
              "  .colab-df-quickchart:hover {\n",
              "    background-color: #E2EBFA;\n",
              "    box-shadow: 0px 1px 2px rgba(60, 64, 67, 0.3), 0px 1px 3px 1px rgba(60, 64, 67, 0.15);\n",
              "    fill: #174EA6;\n",
              "  }\n",
              "\n",
              "  [theme=dark] .colab-df-quickchart {\n",
              "    background-color: #3B4455;\n",
              "    fill: #D2E3FC;\n",
              "  }\n",
              "\n",
              "  [theme=dark] .colab-df-quickchart:hover {\n",
              "    background-color: #434B5C;\n",
              "    box-shadow: 0px 1px 3px 1px rgba(0, 0, 0, 0.15);\n",
              "    filter: drop-shadow(0px 1px 2px rgba(0, 0, 0, 0.3));\n",
              "    fill: #FFFFFF;\n",
              "  }\n",
              "</style>\n",
              "\n",
              "  <script>\n",
              "    async function quickchart(key) {\n",
              "      const charts = await google.colab.kernel.invokeFunction(\n",
              "          'suggestCharts', [key], {});\n",
              "    }\n",
              "    (() => {\n",
              "      let quickchartButtonEl =\n",
              "        document.querySelector('#df-9e64dc79-9ae4-4296-9b65-30da1acafe81 button');\n",
              "      quickchartButtonEl.style.display =\n",
              "        google.colab.kernel.accessAllowed ? 'block' : 'none';\n",
              "    })();\n",
              "  </script>\n",
              "</div>\n",
              "    </div>\n",
              "  </div>\n"
            ]
          },
          "metadata": {},
          "execution_count": 3
        }
      ],
      "source": [
        "df = pd.read_csv(\"/content/drive/MyDrive/Classification3_exams.csv\")\n",
        "df"
      ]
    },
    {
      "cell_type": "code",
      "execution_count": null,
      "id": "dec62c97",
      "metadata": {
        "colab": {
          "base_uri": "https://localhost:8080/"
        },
        "id": "dec62c97",
        "outputId": "3a1c7601-f6aa-4cad-a1ca-be091c1b8538"
      },
      "outputs": [
        {
          "output_type": "execute_result",
          "data": {
            "text/plain": [
              "gender                         0\n",
              "race/ethnicity                 0\n",
              "parental level of education    0\n",
              "lunch                          0\n",
              "test preparation course        0\n",
              "math score                     0\n",
              "reading score                  0\n",
              "writing score                  0\n",
              "dtype: int64"
            ]
          },
          "metadata": {},
          "execution_count": 4
        }
      ],
      "source": [
        "df.isnull().sum()"
      ]
    },
    {
      "cell_type": "code",
      "execution_count": null,
      "id": "75f13f69",
      "metadata": {
        "colab": {
          "base_uri": "https://localhost:8080/",
          "height": 300
        },
        "id": "75f13f69",
        "outputId": "3f5c55f3-6f06-4997-b842-4ac41760108f"
      },
      "outputs": [
        {
          "output_type": "execute_result",
          "data": {
            "text/plain": [
              "        math score  reading score  writing score\n",
              "count  1000.000000    1000.000000    1000.000000\n",
              "mean     67.810000      70.382000      69.140000\n",
              "std      15.250196      14.107413      15.025917\n",
              "min      15.000000      25.000000      15.000000\n",
              "25%      58.000000      61.000000      59.000000\n",
              "50%      68.000000      70.500000      70.000000\n",
              "75%      79.250000      80.000000      80.000000\n",
              "max     100.000000     100.000000     100.000000"
            ],
            "text/html": [
              "\n",
              "  <div id=\"df-4f35921d-1f7e-4e9d-9b0b-289885f9628b\" class=\"colab-df-container\">\n",
              "    <div>\n",
              "<style scoped>\n",
              "    .dataframe tbody tr th:only-of-type {\n",
              "        vertical-align: middle;\n",
              "    }\n",
              "\n",
              "    .dataframe tbody tr th {\n",
              "        vertical-align: top;\n",
              "    }\n",
              "\n",
              "    .dataframe thead th {\n",
              "        text-align: right;\n",
              "    }\n",
              "</style>\n",
              "<table border=\"1\" class=\"dataframe\">\n",
              "  <thead>\n",
              "    <tr style=\"text-align: right;\">\n",
              "      <th></th>\n",
              "      <th>math score</th>\n",
              "      <th>reading score</th>\n",
              "      <th>writing score</th>\n",
              "    </tr>\n",
              "  </thead>\n",
              "  <tbody>\n",
              "    <tr>\n",
              "      <th>count</th>\n",
              "      <td>1000.000000</td>\n",
              "      <td>1000.000000</td>\n",
              "      <td>1000.000000</td>\n",
              "    </tr>\n",
              "    <tr>\n",
              "      <th>mean</th>\n",
              "      <td>67.810000</td>\n",
              "      <td>70.382000</td>\n",
              "      <td>69.140000</td>\n",
              "    </tr>\n",
              "    <tr>\n",
              "      <th>std</th>\n",
              "      <td>15.250196</td>\n",
              "      <td>14.107413</td>\n",
              "      <td>15.025917</td>\n",
              "    </tr>\n",
              "    <tr>\n",
              "      <th>min</th>\n",
              "      <td>15.000000</td>\n",
              "      <td>25.000000</td>\n",
              "      <td>15.000000</td>\n",
              "    </tr>\n",
              "    <tr>\n",
              "      <th>25%</th>\n",
              "      <td>58.000000</td>\n",
              "      <td>61.000000</td>\n",
              "      <td>59.000000</td>\n",
              "    </tr>\n",
              "    <tr>\n",
              "      <th>50%</th>\n",
              "      <td>68.000000</td>\n",
              "      <td>70.500000</td>\n",
              "      <td>70.000000</td>\n",
              "    </tr>\n",
              "    <tr>\n",
              "      <th>75%</th>\n",
              "      <td>79.250000</td>\n",
              "      <td>80.000000</td>\n",
              "      <td>80.000000</td>\n",
              "    </tr>\n",
              "    <tr>\n",
              "      <th>max</th>\n",
              "      <td>100.000000</td>\n",
              "      <td>100.000000</td>\n",
              "      <td>100.000000</td>\n",
              "    </tr>\n",
              "  </tbody>\n",
              "</table>\n",
              "</div>\n",
              "    <div class=\"colab-df-buttons\">\n",
              "\n",
              "  <div class=\"colab-df-container\">\n",
              "    <button class=\"colab-df-convert\" onclick=\"convertToInteractive('df-4f35921d-1f7e-4e9d-9b0b-289885f9628b')\"\n",
              "            title=\"Convert this dataframe to an interactive table.\"\n",
              "            style=\"display:none;\">\n",
              "\n",
              "  <svg xmlns=\"http://www.w3.org/2000/svg\" height=\"24px\" viewBox=\"0 -960 960 960\">\n",
              "    <path d=\"M120-120v-720h720v720H120Zm60-500h600v-160H180v160Zm220 220h160v-160H400v160Zm0 220h160v-160H400v160ZM180-400h160v-160H180v160Zm440 0h160v-160H620v160ZM180-180h160v-160H180v160Zm440 0h160v-160H620v160Z\"/>\n",
              "  </svg>\n",
              "    </button>\n",
              "\n",
              "  <style>\n",
              "    .colab-df-container {\n",
              "      display:flex;\n",
              "      gap: 12px;\n",
              "    }\n",
              "\n",
              "    .colab-df-convert {\n",
              "      background-color: #E8F0FE;\n",
              "      border: none;\n",
              "      border-radius: 50%;\n",
              "      cursor: pointer;\n",
              "      display: none;\n",
              "      fill: #1967D2;\n",
              "      height: 32px;\n",
              "      padding: 0 0 0 0;\n",
              "      width: 32px;\n",
              "    }\n",
              "\n",
              "    .colab-df-convert:hover {\n",
              "      background-color: #E2EBFA;\n",
              "      box-shadow: 0px 1px 2px rgba(60, 64, 67, 0.3), 0px 1px 3px 1px rgba(60, 64, 67, 0.15);\n",
              "      fill: #174EA6;\n",
              "    }\n",
              "\n",
              "    .colab-df-buttons div {\n",
              "      margin-bottom: 4px;\n",
              "    }\n",
              "\n",
              "    [theme=dark] .colab-df-convert {\n",
              "      background-color: #3B4455;\n",
              "      fill: #D2E3FC;\n",
              "    }\n",
              "\n",
              "    [theme=dark] .colab-df-convert:hover {\n",
              "      background-color: #434B5C;\n",
              "      box-shadow: 0px 1px 3px 1px rgba(0, 0, 0, 0.15);\n",
              "      filter: drop-shadow(0px 1px 2px rgba(0, 0, 0, 0.3));\n",
              "      fill: #FFFFFF;\n",
              "    }\n",
              "  </style>\n",
              "\n",
              "    <script>\n",
              "      const buttonEl =\n",
              "        document.querySelector('#df-4f35921d-1f7e-4e9d-9b0b-289885f9628b button.colab-df-convert');\n",
              "      buttonEl.style.display =\n",
              "        google.colab.kernel.accessAllowed ? 'block' : 'none';\n",
              "\n",
              "      async function convertToInteractive(key) {\n",
              "        const element = document.querySelector('#df-4f35921d-1f7e-4e9d-9b0b-289885f9628b');\n",
              "        const dataTable =\n",
              "          await google.colab.kernel.invokeFunction('convertToInteractive',\n",
              "                                                    [key], {});\n",
              "        if (!dataTable) return;\n",
              "\n",
              "        const docLinkHtml = 'Like what you see? Visit the ' +\n",
              "          '<a target=\"_blank\" href=https://colab.research.google.com/notebooks/data_table.ipynb>data table notebook</a>'\n",
              "          + ' to learn more about interactive tables.';\n",
              "        element.innerHTML = '';\n",
              "        dataTable['output_type'] = 'display_data';\n",
              "        await google.colab.output.renderOutput(dataTable, element);\n",
              "        const docLink = document.createElement('div');\n",
              "        docLink.innerHTML = docLinkHtml;\n",
              "        element.appendChild(docLink);\n",
              "      }\n",
              "    </script>\n",
              "  </div>\n",
              "\n",
              "\n",
              "<div id=\"df-be8a5db0-f7e3-4180-bf28-004339b226f0\">\n",
              "  <button class=\"colab-df-quickchart\" onclick=\"quickchart('df-be8a5db0-f7e3-4180-bf28-004339b226f0')\"\n",
              "            title=\"Suggest charts.\"\n",
              "            style=\"display:none;\">\n",
              "\n",
              "<svg xmlns=\"http://www.w3.org/2000/svg\" height=\"24px\"viewBox=\"0 0 24 24\"\n",
              "     width=\"24px\">\n",
              "    <g>\n",
              "        <path d=\"M19 3H5c-1.1 0-2 .9-2 2v14c0 1.1.9 2 2 2h14c1.1 0 2-.9 2-2V5c0-1.1-.9-2-2-2zM9 17H7v-7h2v7zm4 0h-2V7h2v10zm4 0h-2v-4h2v4z\"/>\n",
              "    </g>\n",
              "</svg>\n",
              "  </button>\n",
              "\n",
              "<style>\n",
              "  .colab-df-quickchart {\n",
              "    background-color: #E8F0FE;\n",
              "    border: none;\n",
              "    border-radius: 50%;\n",
              "    cursor: pointer;\n",
              "    display: none;\n",
              "    fill: #1967D2;\n",
              "    height: 32px;\n",
              "    padding: 0 0 0 0;\n",
              "    width: 32px;\n",
              "  }\n",
              "\n",
              "  .colab-df-quickchart:hover {\n",
              "    background-color: #E2EBFA;\n",
              "    box-shadow: 0px 1px 2px rgba(60, 64, 67, 0.3), 0px 1px 3px 1px rgba(60, 64, 67, 0.15);\n",
              "    fill: #174EA6;\n",
              "  }\n",
              "\n",
              "  [theme=dark] .colab-df-quickchart {\n",
              "    background-color: #3B4455;\n",
              "    fill: #D2E3FC;\n",
              "  }\n",
              "\n",
              "  [theme=dark] .colab-df-quickchart:hover {\n",
              "    background-color: #434B5C;\n",
              "    box-shadow: 0px 1px 3px 1px rgba(0, 0, 0, 0.15);\n",
              "    filter: drop-shadow(0px 1px 2px rgba(0, 0, 0, 0.3));\n",
              "    fill: #FFFFFF;\n",
              "  }\n",
              "</style>\n",
              "\n",
              "  <script>\n",
              "    async function quickchart(key) {\n",
              "      const charts = await google.colab.kernel.invokeFunction(\n",
              "          'suggestCharts', [key], {});\n",
              "    }\n",
              "    (() => {\n",
              "      let quickchartButtonEl =\n",
              "        document.querySelector('#df-be8a5db0-f7e3-4180-bf28-004339b226f0 button');\n",
              "      quickchartButtonEl.style.display =\n",
              "        google.colab.kernel.accessAllowed ? 'block' : 'none';\n",
              "    })();\n",
              "  </script>\n",
              "</div>\n",
              "    </div>\n",
              "  </div>\n"
            ]
          },
          "metadata": {},
          "execution_count": 5
        }
      ],
      "source": [
        "df.describe()"
      ]
    },
    {
      "cell_type": "markdown",
      "id": "4a0cc112",
      "metadata": {
        "id": "4a0cc112"
      },
      "source": [
        "Dividing dependent and independent variables"
      ]
    },
    {
      "cell_type": "code",
      "execution_count": null,
      "id": "44c46c0c",
      "metadata": {
        "id": "44c46c0c"
      },
      "outputs": [],
      "source": [
        "X = df.drop('race/ethnicity',axis = 1).values\n",
        "y = df.iloc[:,1].values"
      ]
    },
    {
      "cell_type": "code",
      "execution_count": null,
      "id": "d8f064ca",
      "metadata": {
        "colab": {
          "base_uri": "https://localhost:8080/"
        },
        "id": "d8f064ca",
        "outputId": "78740f7d-1cb0-45a1-efea-bb4a93c1868d"
      },
      "outputs": [
        {
          "output_type": "execute_result",
          "data": {
            "text/plain": [
              "(1000, 7)"
            ]
          },
          "metadata": {},
          "execution_count": 7
        }
      ],
      "source": [
        "X.shape"
      ]
    },
    {
      "cell_type": "code",
      "execution_count": null,
      "id": "e31d7fb2",
      "metadata": {
        "colab": {
          "base_uri": "https://localhost:8080/"
        },
        "id": "e31d7fb2",
        "outputId": "c0a051d0-f9ea-4cc3-b44b-884389776e31"
      },
      "outputs": [
        {
          "output_type": "execute_result",
          "data": {
            "text/plain": [
              "Index(['gender', 'race/ethnicity', 'parental level of education', 'lunch',\n",
              "       'test preparation course', 'math score', 'reading score',\n",
              "       'writing score'],\n",
              "      dtype='object')"
            ]
          },
          "metadata": {},
          "execution_count": 8
        }
      ],
      "source": [
        "df.columns"
      ]
    },
    {
      "cell_type": "code",
      "execution_count": null,
      "id": "d7fcf854",
      "metadata": {
        "colab": {
          "base_uri": "https://localhost:8080/"
        },
        "id": "d7fcf854",
        "outputId": "6f2dbfa5-38c0-4309-b759-e305dd9b32fa"
      },
      "outputs": [
        {
          "output_type": "execute_result",
          "data": {
            "text/plain": [
              "(1000, 7)"
            ]
          },
          "metadata": {},
          "execution_count": 9
        }
      ],
      "source": [
        "X.shape"
      ]
    },
    {
      "cell_type": "code",
      "execution_count": null,
      "id": "27f3bf44",
      "metadata": {
        "colab": {
          "base_uri": "https://localhost:8080/"
        },
        "id": "27f3bf44",
        "outputId": "0ea507a5-b78b-44f2-8ba3-52c8ca0631cd"
      },
      "outputs": [
        {
          "output_type": "execute_result",
          "data": {
            "text/plain": [
              "(1000,)"
            ]
          },
          "metadata": {},
          "execution_count": 10
        }
      ],
      "source": [
        "y.shape"
      ]
    },
    {
      "cell_type": "markdown",
      "id": "4e4eb84f",
      "metadata": {
        "id": "4e4eb84f"
      },
      "source": [
        "Label Encoding"
      ]
    },
    {
      "cell_type": "code",
      "execution_count": null,
      "id": "df5aa89f",
      "metadata": {
        "id": "df5aa89f"
      },
      "outputs": [],
      "source": [
        "from sklearn.preprocessing import LabelEncoder\n",
        "le = LabelEncoder()\n",
        "for i in range(0,4):\n",
        "    X[:,i] = le.fit_transform(X[:,i])\n",
        "y = le.fit_transform(y)"
      ]
    },
    {
      "cell_type": "code",
      "execution_count": null,
      "id": "d298685c",
      "metadata": {
        "colab": {
          "base_uri": "https://localhost:8080/"
        },
        "id": "d298685c",
        "outputId": "2dee684d-07a0-4014-da35-6dac6fa0e832"
      },
      "outputs": [
        {
          "output_type": "execute_result",
          "data": {
            "text/plain": [
              "array([[0, 4, 1, ..., 59, 70, 78],\n",
              "       [1, 0, 1, ..., 96, 93, 87],\n",
              "       [0, 4, 0, ..., 57, 76, 77],\n",
              "       ...,\n",
              "       [0, 2, 1, ..., 67, 86, 86],\n",
              "       [1, 2, 1, ..., 80, 72, 62],\n",
              "       [1, 2, 1, ..., 58, 47, 45]], dtype=object)"
            ]
          },
          "metadata": {},
          "execution_count": 12
        }
      ],
      "source": [
        "X"
      ]
    },
    {
      "cell_type": "code",
      "execution_count": null,
      "id": "0334efc4",
      "metadata": {
        "colab": {
          "base_uri": "https://localhost:8080/"
        },
        "id": "0334efc4",
        "outputId": "4f738bb2-b00f-469b-9029-2a5c762c92e6"
      },
      "outputs": [
        {
          "output_type": "execute_result",
          "data": {
            "text/plain": [
              "array([3, 3, 3, 1, 3, 2, 4, 1, 2, 2, 1, 1, 1, 0, 2, 4, 2, 2, 4, 3, 2, 3,\n",
              "       1, 4, 3, 1, 3, 3, 4, 3, 1, 3, 1, 3, 3, 0, 4, 3, 2, 4, 2, 2, 1, 3,\n",
              "       1, 2, 0, 2, 4, 3, 4, 4, 3, 1, 2, 2, 3, 4, 2, 2, 3, 2, 3, 2, 1, 1,\n",
              "       2, 1, 2, 3, 2, 3, 2, 3, 4, 1, 1, 2, 0, 1, 2, 3, 0, 2, 3, 3, 3, 4,\n",
              "       1, 2, 2, 2, 2, 3, 2, 2, 3, 1, 1, 2, 3, 2, 3, 2, 2, 3, 1, 1, 2, 4,\n",
              "       3, 1, 2, 2, 1, 4, 4, 2, 1, 1, 3, 3, 3, 1, 3, 4, 1, 3, 2, 2, 2, 2,\n",
              "       3, 3, 2, 2, 4, 4, 3, 2, 2, 3, 2, 4, 3, 0, 3, 4, 2, 2, 3, 1, 2, 0,\n",
              "       4, 1, 1, 2, 1, 3, 4, 2, 3, 1, 0, 4, 2, 4, 3, 3, 1, 3, 0, 4, 3, 3,\n",
              "       1, 4, 2, 2, 1, 1, 0, 0, 1, 3, 2, 2, 3, 2, 2, 0, 1, 3, 3, 3, 2, 1,\n",
              "       2, 4, 0, 3, 1, 4, 1, 1, 2, 4, 2, 2, 4, 4, 4, 1, 0, 3, 3, 0, 3, 4,\n",
              "       2, 4, 2, 4, 3, 1, 3, 4, 2, 2, 1, 4, 1, 2, 3, 2, 1, 1, 3, 1, 1, 3,\n",
              "       3, 1, 2, 2, 2, 2, 0, 2, 2, 2, 1, 1, 3, 1, 1, 2, 1, 2, 2, 3, 1, 0,\n",
              "       2, 2, 3, 3, 3, 2, 2, 3, 4, 2, 3, 1, 3, 2, 0, 0, 2, 2, 2, 1, 1, 4,\n",
              "       0, 1, 2, 0, 2, 3, 4, 2, 3, 2, 1, 3, 1, 2, 2, 3, 1, 0, 4, 2, 1, 0,\n",
              "       1, 2, 3, 4, 3, 2, 0, 3, 3, 0, 2, 2, 2, 1, 2, 3, 1, 2, 3, 3, 2, 3,\n",
              "       4, 3, 2, 2, 3, 1, 1, 2, 1, 3, 1, 1, 3, 1, 3, 1, 1, 1, 1, 2, 0, 1,\n",
              "       2, 1, 0, 3, 2, 1, 1, 2, 1, 2, 4, 4, 1, 2, 1, 2, 2, 4, 3, 3, 2, 4,\n",
              "       1, 2, 2, 2, 3, 0, 2, 4, 0, 2, 2, 2, 4, 2, 4, 3, 3, 4, 2, 2, 2, 3,\n",
              "       2, 1, 2, 4, 4, 3, 2, 2, 2, 3, 3, 3, 3, 2, 3, 4, 2, 3, 3, 0, 2, 2,\n",
              "       1, 3, 3, 2, 4, 0, 2, 2, 3, 2, 4, 2, 0, 3, 1, 0, 1, 2, 1, 1, 0, 4,\n",
              "       3, 1, 2, 3, 3, 2, 2, 2, 1, 2, 3, 1, 2, 2, 4, 4, 3, 4, 0, 2, 2, 3,\n",
              "       3, 0, 3, 3, 3, 3, 1, 3, 1, 4, 3, 2, 1, 2, 2, 1, 2, 0, 2, 3, 3, 1,\n",
              "       2, 3, 2, 4, 4, 2, 2, 3, 3, 3, 3, 2, 4, 3, 3, 0, 4, 2, 4, 3, 2, 2,\n",
              "       0, 3, 1, 4, 3, 2, 3, 2, 3, 4, 3, 1, 1, 1, 4, 3, 2, 2, 3, 2, 1, 4,\n",
              "       3, 4, 2, 3, 2, 1, 2, 1, 2, 1, 2, 1, 2, 2, 3, 3, 1, 4, 4, 1, 2, 4,\n",
              "       3, 2, 1, 3, 2, 4, 0, 4, 1, 0, 2, 2, 0, 2, 3, 4, 3, 2, 2, 3, 4, 1,\n",
              "       3, 3, 2, 1, 3, 2, 2, 1, 4, 2, 2, 1, 0, 2, 3, 2, 2, 3, 1, 2, 0, 3,\n",
              "       3, 2, 1, 2, 2, 3, 2, 3, 2, 1, 2, 2, 2, 3, 2, 3, 3, 3, 3, 0, 4, 2,\n",
              "       2, 1, 2, 2, 4, 1, 1, 1, 2, 4, 3, 0, 2, 3, 3, 1, 1, 0, 2, 2, 3, 1,\n",
              "       2, 1, 2, 2, 2, 4, 2, 1, 1, 4, 3, 1, 1, 1, 3, 4, 0, 2, 3, 4, 1, 0,\n",
              "       1, 1, 2, 4, 3, 3, 2, 0, 4, 3, 4, 2, 2, 3, 4, 2, 3, 3, 2, 2, 2, 3,\n",
              "       1, 2, 4, 1, 3, 4, 3, 4, 3, 1, 2, 2, 4, 3, 2, 4, 4, 3, 2, 3, 0, 4,\n",
              "       1, 0, 1, 1, 1, 3, 0, 3, 2, 2, 4, 0, 3, 2, 2, 3, 3, 2, 2, 2, 1, 3,\n",
              "       1, 2, 3, 0, 1, 2, 3, 4, 4, 2, 2, 3, 0, 1, 3, 3, 1, 0, 1, 2, 2, 4,\n",
              "       0, 2, 1, 2, 2, 1, 4, 0, 0, 2, 1, 0, 2, 3, 2, 3, 1, 3, 4, 3, 2, 2,\n",
              "       2, 2, 4, 3, 2, 3, 0, 4, 0, 1, 4, 3, 3, 2, 2, 3, 1, 2, 3, 2, 3, 2,\n",
              "       2, 2, 2, 1, 3, 3, 1, 1, 3, 1, 3, 4, 4, 2, 2, 1, 1, 4, 1, 1, 3, 1,\n",
              "       4, 1, 2, 1, 4, 3, 3, 4, 1, 3, 2, 3, 1, 3, 2, 1, 2, 3, 0, 3, 2, 3,\n",
              "       0, 1, 1, 0, 4, 2, 3, 0, 2, 2, 4, 1, 3, 4, 2, 2, 0, 2, 2, 4, 4, 4,\n",
              "       3, 4, 1, 2, 3, 0, 1, 2, 4, 1, 4, 2, 4, 2, 4, 3, 2, 4, 3, 0, 4, 2,\n",
              "       3, 3, 3, 2, 2, 3, 2, 1, 2, 2, 4, 2, 4, 1, 4, 2, 3, 2, 2, 1, 4, 3,\n",
              "       0, 1, 3, 1, 3, 3, 2, 2, 1, 3, 2, 3, 3, 4, 2, 2, 3, 2, 4, 3, 1, 3,\n",
              "       2, 1, 1, 2, 2, 3, 3, 3, 1, 3, 2, 2, 3, 0, 1, 3, 3, 4, 4, 2, 0, 3,\n",
              "       2, 2, 0, 1, 2, 4, 2, 1, 4, 4, 4, 1, 2, 1, 2, 4, 2, 1, 2, 2, 3, 2,\n",
              "       1, 2, 2, 2, 2, 0, 1, 4, 1, 1, 3, 2, 2, 4, 2, 3, 4, 0, 3, 3, 3, 3,\n",
              "       2, 0, 0, 3, 1, 2, 2, 0, 4, 3])"
            ]
          },
          "metadata": {},
          "execution_count": 13
        }
      ],
      "source": [
        "y"
      ]
    },
    {
      "cell_type": "markdown",
      "id": "a6878231",
      "metadata": {
        "id": "a6878231"
      },
      "source": [
        "Splitting test and train set"
      ]
    },
    {
      "cell_type": "code",
      "execution_count": null,
      "id": "48d02dd1",
      "metadata": {
        "id": "48d02dd1"
      },
      "outputs": [],
      "source": [
        "from sklearn.model_selection import train_test_split\n",
        "X_train, X_test, y_train, y_test = train_test_split(X,y,test_size = 0.2)"
      ]
    },
    {
      "cell_type": "code",
      "execution_count": null,
      "id": "62de80e0",
      "metadata": {
        "id": "62de80e0"
      },
      "outputs": [],
      "source": [
        "from sklearn.preprocessing import StandardScaler\n",
        "sc = StandardScaler()\n",
        "X_train[:,4:] = sc.fit_transform(X_train[:,4:])\n",
        "X_test[:,4:] = sc.transform(X_test[:,4:])"
      ]
    },
    {
      "cell_type": "code",
      "execution_count": null,
      "id": "2c79f870",
      "metadata": {
        "colab": {
          "base_uri": "https://localhost:8080/"
        },
        "id": "2c79f870",
        "outputId": "64f61785-3e1e-41f1-caea-80b13e412d72"
      },
      "outputs": [
        {
          "output_type": "execute_result",
          "data": {
            "text/plain": [
              "array([[1, 0, 0, ..., 0.9373191867493751, 1.1338696508259662,\n",
              "        0.6041553409007787],\n",
              "       [0, 4, 1, ..., 1.0032811281110483, 1.4930870279290762,\n",
              "        1.5501276347758974],\n",
              "       [1, 0, 1, ..., 0.7394333626643556, 0.4872783720403685,\n",
              "        0.4014469922132533],\n",
              "       ...,\n",
              "       [1, 1, 0, ..., -0.3159576991224148, -0.8059041855308271,\n",
              "        -1.2202197972869502],\n",
              "       [1, 0, 1, ..., 0.5415475385793361, 0.6309653228816124,\n",
              "        0.7392942400257957],\n",
              "       [1, 0, 1, ..., 1.794824424451126, 1.1338696508259662,\n",
              "        0.9420025887133211]], dtype=object)"
            ]
          },
          "metadata": {},
          "execution_count": 16
        }
      ],
      "source": [
        "X_train"
      ]
    },
    {
      "cell_type": "markdown",
      "id": "2697d43e",
      "metadata": {
        "id": "2697d43e"
      },
      "source": [
        "Training with SVM"
      ]
    },
    {
      "cell_type": "code",
      "execution_count": null,
      "id": "8e47c5d0",
      "metadata": {
        "colab": {
          "base_uri": "https://localhost:8080/",
          "height": 74
        },
        "id": "8e47c5d0",
        "outputId": "41b9659b-a6b8-493e-9d24-607e24c4b93a"
      },
      "outputs": [
        {
          "output_type": "execute_result",
          "data": {
            "text/plain": [
              "SVC()"
            ],
            "text/html": [
              "<style>#sk-container-id-1 {color: black;background-color: white;}#sk-container-id-1 pre{padding: 0;}#sk-container-id-1 div.sk-toggleable {background-color: white;}#sk-container-id-1 label.sk-toggleable__label {cursor: pointer;display: block;width: 100%;margin-bottom: 0;padding: 0.3em;box-sizing: border-box;text-align: center;}#sk-container-id-1 label.sk-toggleable__label-arrow:before {content: \"▸\";float: left;margin-right: 0.25em;color: #696969;}#sk-container-id-1 label.sk-toggleable__label-arrow:hover:before {color: black;}#sk-container-id-1 div.sk-estimator:hover label.sk-toggleable__label-arrow:before {color: black;}#sk-container-id-1 div.sk-toggleable__content {max-height: 0;max-width: 0;overflow: hidden;text-align: left;background-color: #f0f8ff;}#sk-container-id-1 div.sk-toggleable__content pre {margin: 0.2em;color: black;border-radius: 0.25em;background-color: #f0f8ff;}#sk-container-id-1 input.sk-toggleable__control:checked~div.sk-toggleable__content {max-height: 200px;max-width: 100%;overflow: auto;}#sk-container-id-1 input.sk-toggleable__control:checked~label.sk-toggleable__label-arrow:before {content: \"▾\";}#sk-container-id-1 div.sk-estimator input.sk-toggleable__control:checked~label.sk-toggleable__label {background-color: #d4ebff;}#sk-container-id-1 div.sk-label input.sk-toggleable__control:checked~label.sk-toggleable__label {background-color: #d4ebff;}#sk-container-id-1 input.sk-hidden--visually {border: 0;clip: rect(1px 1px 1px 1px);clip: rect(1px, 1px, 1px, 1px);height: 1px;margin: -1px;overflow: hidden;padding: 0;position: absolute;width: 1px;}#sk-container-id-1 div.sk-estimator {font-family: monospace;background-color: #f0f8ff;border: 1px dotted black;border-radius: 0.25em;box-sizing: border-box;margin-bottom: 0.5em;}#sk-container-id-1 div.sk-estimator:hover {background-color: #d4ebff;}#sk-container-id-1 div.sk-parallel-item::after {content: \"\";width: 100%;border-bottom: 1px solid gray;flex-grow: 1;}#sk-container-id-1 div.sk-label:hover label.sk-toggleable__label {background-color: #d4ebff;}#sk-container-id-1 div.sk-serial::before {content: \"\";position: absolute;border-left: 1px solid gray;box-sizing: border-box;top: 0;bottom: 0;left: 50%;z-index: 0;}#sk-container-id-1 div.sk-serial {display: flex;flex-direction: column;align-items: center;background-color: white;padding-right: 0.2em;padding-left: 0.2em;position: relative;}#sk-container-id-1 div.sk-item {position: relative;z-index: 1;}#sk-container-id-1 div.sk-parallel {display: flex;align-items: stretch;justify-content: center;background-color: white;position: relative;}#sk-container-id-1 div.sk-item::before, #sk-container-id-1 div.sk-parallel-item::before {content: \"\";position: absolute;border-left: 1px solid gray;box-sizing: border-box;top: 0;bottom: 0;left: 50%;z-index: -1;}#sk-container-id-1 div.sk-parallel-item {display: flex;flex-direction: column;z-index: 1;position: relative;background-color: white;}#sk-container-id-1 div.sk-parallel-item:first-child::after {align-self: flex-end;width: 50%;}#sk-container-id-1 div.sk-parallel-item:last-child::after {align-self: flex-start;width: 50%;}#sk-container-id-1 div.sk-parallel-item:only-child::after {width: 0;}#sk-container-id-1 div.sk-dashed-wrapped {border: 1px dashed gray;margin: 0 0.4em 0.5em 0.4em;box-sizing: border-box;padding-bottom: 0.4em;background-color: white;}#sk-container-id-1 div.sk-label label {font-family: monospace;font-weight: bold;display: inline-block;line-height: 1.2em;}#sk-container-id-1 div.sk-label-container {text-align: center;}#sk-container-id-1 div.sk-container {/* jupyter's `normalize.less` sets `[hidden] { display: none; }` but bootstrap.min.css set `[hidden] { display: none !important; }` so we also need the `!important` here to be able to override the default hidden behavior on the sphinx rendered scikit-learn.org. See: https://github.com/scikit-learn/scikit-learn/issues/21755 */display: inline-block !important;position: relative;}#sk-container-id-1 div.sk-text-repr-fallback {display: none;}</style><div id=\"sk-container-id-1\" class=\"sk-top-container\"><div class=\"sk-text-repr-fallback\"><pre>SVC()</pre><b>In a Jupyter environment, please rerun this cell to show the HTML representation or trust the notebook. <br />On GitHub, the HTML representation is unable to render, please try loading this page with nbviewer.org.</b></div><div class=\"sk-container\" hidden><div class=\"sk-item\"><div class=\"sk-estimator sk-toggleable\"><input class=\"sk-toggleable__control sk-hidden--visually\" id=\"sk-estimator-id-1\" type=\"checkbox\" checked><label for=\"sk-estimator-id-1\" class=\"sk-toggleable__label sk-toggleable__label-arrow\">SVC</label><div class=\"sk-toggleable__content\"><pre>SVC()</pre></div></div></div></div></div>"
            ]
          },
          "metadata": {},
          "execution_count": 17
        }
      ],
      "source": [
        "from sklearn.svm import SVC\n",
        "classifier = SVC(kernel = 'rbf')\n",
        "classifier.fit(X_train, y_train)"
      ]
    },
    {
      "cell_type": "code",
      "execution_count": null,
      "id": "7b76c5cd",
      "metadata": {
        "id": "7b76c5cd"
      },
      "outputs": [],
      "source": [
        "y_pred = classifier.predict(X_test)"
      ]
    },
    {
      "cell_type": "code",
      "execution_count": null,
      "id": "a2a8ebc8",
      "metadata": {
        "colab": {
          "base_uri": "https://localhost:8080/"
        },
        "id": "a2a8ebc8",
        "outputId": "fb2d70f9-af10-4233-d2b1-fe6701484979"
      },
      "outputs": [
        {
          "output_type": "execute_result",
          "data": {
            "text/plain": [
              "array([3, 4, 1, 2, 3, 4, 4, 3, 3, 3, 4, 2, 2, 3, 1, 0, 3, 3, 2, 1, 1, 1,\n",
              "       3, 3, 3, 0, 4, 2, 1, 3, 2, 1, 2, 3, 2, 2, 2, 2, 2, 2, 3, 2, 2, 2,\n",
              "       2, 2, 2, 2, 1, 3, 1, 2, 3, 3, 3, 1, 3, 3, 1, 4, 2, 4, 0, 2, 1, 3,\n",
              "       0, 3, 0, 4, 3, 1, 4, 2, 2, 2, 3, 2, 0, 4, 4, 4, 2, 3, 3, 2, 3, 3,\n",
              "       2, 2, 4, 4, 4, 2, 1, 4, 3, 0, 3, 1, 4, 3, 1, 4, 3, 3, 2, 3, 2, 3,\n",
              "       1, 1, 1, 4, 3, 3, 3, 2, 2, 1, 3, 2, 2, 2, 3, 2, 3, 3, 1, 2, 3, 1,\n",
              "       2, 2, 1, 3, 3, 3, 1, 4, 3, 2, 4, 1, 4, 3, 1, 4, 4, 3, 3, 2, 1, 4,\n",
              "       2, 2, 3, 3, 2, 4, 3, 0, 2, 2, 4, 2, 2, 3, 1, 0, 2, 3, 4, 3, 2, 1,\n",
              "       2, 2, 0, 2, 3, 2, 2, 2, 1, 4, 1, 4, 2, 1, 2, 3, 4, 1, 3, 4, 1, 2,\n",
              "       4, 2])"
            ]
          },
          "metadata": {},
          "execution_count": 19
        }
      ],
      "source": [
        "y_test"
      ]
    },
    {
      "cell_type": "code",
      "execution_count": null,
      "id": "841d7959",
      "metadata": {
        "colab": {
          "base_uri": "https://localhost:8080/"
        },
        "id": "841d7959",
        "outputId": "b1b0f4b4-0ab1-4971-bee5-7c1f1201815d"
      },
      "outputs": [
        {
          "output_type": "execute_result",
          "data": {
            "text/plain": [
              "array([2, 2, 2, 2, 2, 4, 2, 2, 2, 2, 4, 2, 2, 2, 2, 2, 4, 2, 2, 2, 2, 2,\n",
              "       2, 3, 2, 3, 2, 3, 2, 3, 2, 2, 3, 2, 2, 2, 2, 2, 2, 2, 2, 2, 2, 3,\n",
              "       4, 2, 2, 2, 3, 3, 2, 2, 4, 2, 2, 2, 1, 2, 2, 2, 2, 2, 2, 2, 2, 2,\n",
              "       2, 2, 2, 3, 2, 2, 2, 2, 4, 3, 3, 2, 3, 2, 3, 2, 1, 2, 3, 2, 2, 2,\n",
              "       2, 2, 2, 3, 2, 2, 2, 3, 2, 2, 2, 2, 2, 2, 2, 3, 2, 2, 2, 2, 4, 2,\n",
              "       2, 2, 2, 3, 3, 2, 2, 2, 2, 3, 2, 2, 2, 2, 2, 2, 2, 3, 3, 2, 2, 3,\n",
              "       2, 2, 2, 2, 3, 2, 2, 2, 3, 2, 2, 2, 2, 2, 2, 4, 2, 2, 2, 2, 2, 4,\n",
              "       2, 2, 2, 2, 3, 2, 2, 2, 2, 4, 4, 4, 3, 3, 2, 2, 2, 2, 4, 2, 3, 4,\n",
              "       2, 3, 2, 3, 2, 2, 2, 1, 2, 2, 2, 2, 2, 2, 2, 2, 3, 2, 3, 2, 2, 2,\n",
              "       4, 3])"
            ]
          },
          "metadata": {},
          "execution_count": 20
        }
      ],
      "source": [
        "y_pred"
      ]
    },
    {
      "cell_type": "markdown",
      "id": "f898e07a",
      "metadata": {
        "id": "f898e07a"
      },
      "source": [
        "Evaluating Model Performance"
      ]
    },
    {
      "cell_type": "code",
      "execution_count": null,
      "id": "5afca3a1",
      "metadata": {
        "colab": {
          "base_uri": "https://localhost:8080/"
        },
        "id": "5afca3a1",
        "outputId": "9e77e6b9-1e95-4b84-8d75-4f70a759d906"
      },
      "outputs": [
        {
          "output_type": "stream",
          "name": "stdout",
          "text": [
            "[[ 0  0  8  2  0]\n",
            " [ 0  0 29  4  1]\n",
            " [ 0  2 47 10  5]\n",
            " [ 0  1 45 11  2]\n",
            " [ 0  0 19  7  7]]\n",
            "Accuracy Score : 0.325\n"
          ]
        }
      ],
      "source": [
        "from sklearn.metrics import confusion_matrix,accuracy_score,f1_score\n",
        "print(confusion_matrix(y_test,y_pred))\n",
        "print(f'Accuracy Score : {accuracy_score(y_test,y_pred)}')"
      ]
    }
  ],
  "metadata": {
    "kernelspec": {
      "display_name": "Python 3 (ipykernel)",
      "language": "python",
      "name": "python3"
    },
    "language_info": {
      "codemirror_mode": {
        "name": "ipython",
        "version": 3
      },
      "file_extension": ".py",
      "mimetype": "text/x-python",
      "name": "python",
      "nbconvert_exporter": "python",
      "pygments_lexer": "ipython3",
      "version": "3.9.13"
    },
    "colab": {
      "provenance": []
    }
  },
  "nbformat": 4,
  "nbformat_minor": 5
}